{
 "cells": [
  {
   "cell_type": "code",
   "execution_count": 12,
   "metadata": {},
   "outputs": [],
   "source": [
    "from wiki_dump_extractor import WikiAvroDumpExtractor, page_utils, date_utils\n",
    "from tqdm.auto import tqdm\n",
    "import pandas\n",
    "import gzip\n",
    "import json\n",
    "from pathlib import Path\n",
    "\n",
    "wiki_data_dir = Path(\"wikipedia_data\")\n",
    "generated_data_dir = Path(\"generated_data\")\n",
    "\n",
    "dump = WikiAvroDumpExtractor(\"../wiki_dump.avro\", index_dir=\"../wiki_dump_idx\")\n",
    "df = pandas.read_csv(\"./places_final.csv\")\n",
    "geopages = set(df.page_title.str.replace(\"_\", \" \"))\n",
    "\n",
    "\n",
    "n_pages = 0\n",
    "selected_pages = []\n",
    "target = Path(\"places_with_dates.json\")\n",
    "if not target.exists():\n",
    "    extracted_dates_dir = Path(\"../date_extractions\")\n",
    "    for i, f in enumerate(tqdm(list(extracted_dates_dir.glob(\"*.json.gz\")))):\n",
    "        if \"_errors\" in f.name:\n",
    "            continue\n",
    "        with gzip.open(f, \"rt\") as f:\n",
    "            records = json.load(f)\n",
    "        n_pages += len(records)\n",
    "        for page, infos in records.items():\n",
    "            if page not in geopages:\n",
    "                continue\n",
    "            if not infos[\"dates_by_section\"]:\n",
    "                continue\n",
    "            total_dates = sum(\n",
    "                [len(dates) for dates in infos[\"dates_by_section\"].values()], 0\n",
    "            )\n",
    "            if total_dates > 100:\n",
    "                continue\n",
    "            for section, dates in infos[\"dates_by_section\"].items():\n",
    "                if any(800 < d[\"date\"][\"year\"] < 2000 for d in dates):\n",
    "                    selected_pages.append((page, total_dates))\n",
    "                    break\n",
    "    with open(target, \"w\") as f:\n",
    "        json.dump(selected_pages, f)\n",
    "\n",
    "with open(target, \"r\") as f:\n",
    "    selected_pages = json.load(f)\n",
    "\n",
    "len(selected_pages)"
   ]
  },
  {
   "cell_type": "code",
   "execution_count": 10,
   "metadata": {},
   "outputs": [
    {
     "data": {
      "text/plain": [
       "(array([23758., 43821., 46350., 47190., 45154., 43004., 39326., 34871.,\n",
       "        30857., 26424., 23844., 20203., 17635., 16555., 15296., 13074.,\n",
       "        12333., 11051.,  9975.,  8947.,  8265.,  7627.,  6900.,  6306.,\n",
       "         5828.,  5452.,  4723.,  4373.,  4193.,  3584.,  3460.,  3240.,\n",
       "         3012.,  2729.,  2582.,  2466.,  2280.,  2126.,  1981.,  1869.,\n",
       "         1727.,  1682.,  1564.,  1369.,  1336.,  1330.,  1277.,  1151.,\n",
       "         1080.,  1080.,   953.,   942.,   936.,   875.,   831.,   757.,\n",
       "          745.,   678.,   656.,   668.,   696.,   644.,   518.,   536.,\n",
       "          552.,   478.,   485.,   456.,   390.,   423.,   413.,   417.,\n",
       "          371.,   381.,   348.,   339.,   322.,   343.,   328.,   301.,\n",
       "          302.,   289.,   280.,   273.,   264.,   260.,   263.,   225.,\n",
       "          248.,   200.,   222.,   183.,   196.,   226.,   189.,   192.,\n",
       "          155.,   196.,   171.,   163.]),\n",
       " array([  1.  ,   1.99,   2.98,   3.97,   4.96,   5.95,   6.94,   7.93,\n",
       "          8.92,   9.91,  10.9 ,  11.89,  12.88,  13.87,  14.86,  15.85,\n",
       "         16.84,  17.83,  18.82,  19.81,  20.8 ,  21.79,  22.78,  23.77,\n",
       "         24.76,  25.75,  26.74,  27.73,  28.72,  29.71,  30.7 ,  31.69,\n",
       "         32.68,  33.67,  34.66,  35.65,  36.64,  37.63,  38.62,  39.61,\n",
       "         40.6 ,  41.59,  42.58,  43.57,  44.56,  45.55,  46.54,  47.53,\n",
       "         48.52,  49.51,  50.5 ,  51.49,  52.48,  53.47,  54.46,  55.45,\n",
       "         56.44,  57.43,  58.42,  59.41,  60.4 ,  61.39,  62.38,  63.37,\n",
       "         64.36,  65.35,  66.34,  67.33,  68.32,  69.31,  70.3 ,  71.29,\n",
       "         72.28,  73.27,  74.26,  75.25,  76.24,  77.23,  78.22,  79.21,\n",
       "         80.2 ,  81.19,  82.18,  83.17,  84.16,  85.15,  86.14,  87.13,\n",
       "         88.12,  89.11,  90.1 ,  91.09,  92.08,  93.07,  94.06,  95.05,\n",
       "         96.04,  97.03,  98.02,  99.01, 100.  ]),\n",
       " <BarContainer object of 100 artists>)"
      ]
     },
     "execution_count": 10,
     "metadata": {},
     "output_type": "execute_result"
    },
    {
     "data": {
      "image/png": "[encoded data removed]",
      "text/plain": [
       "<Figure size 640x480 with 1 Axes>"
      ]
     },
     "metadata": {},
     "output_type": "display_data"
    }
   ],
   "source": [
    "import matplotlib.pyplot as plt\n",
    "\n",
    "lengths = [n_dates for (p, n_dates) in selected_pages]\n",
    "plt.hist(lengths, bins=100)"
   ]
  },
  {
   "cell_type": "code",
   "execution_count": null,
   "metadata": {},
   "outputs": [],
   "source": [
    "pages_with_many_dates = [p for (p, n_dates) in selected_pages if n_dates > 20]\n",
    "len(pages_with_many_dates)\n",
    "with open(\"places_with_over_20_dates.json\", \"w\") as f:\n",
    "    json.dump(pages_with_many_dates, f)"
   ]
  }
 ],
 "metadata": {
  "kernelspec": {
   "display_name": "Python 3",
   "language": "python",
   "name": "python3"
  },
  "language_info": {
   "codemirror_mode": {
    "name": "ipython",
    "version": 3
   },
   "file_extension": ".py",
   "mimetype": "text/x-python",
   "name": "python",
   "nbconvert_exporter": "python",
   "pygments_lexer": "ipython3",
   "version": "3.11.11"
  }
 },
 "nbformat": 4,
 "nbformat_minor": 2
}
