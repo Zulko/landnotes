{
 "cells": [
  {
   "cell_type": "code",
   "execution_count": 1,
   "metadata": {},
   "outputs": [],
   "source": [
    "%load_ext autoreload\n",
    "%autoreload 2"
   ]
  },
  {
   "cell_type": "code",
   "execution_count": 2,
   "metadata": {},
   "outputs": [],
   "source": [
    "from tqdm.auto import tqdm\n",
    "from pathlib import Path\n",
    "import json\n",
    "from utils.db_utils import (\n",
    "    db_execute,\n",
    "    SqliteTableBatchWriter,\n",
    "    open_sqlite_db,\n",
    "    LMDBReader,\n",
    ")\n",
    "from utils.event_processing import LLMEventProcessor, process_infobox_event\n",
    "\n",
    "\n",
    "generated_data_dir = Path(\"generated_data\")\n",
    "sql_dir = generated_data_dir / \"sql\"\n",
    "wiki_data_dir = Path(\"wikipedia_data\")"
   ]
  },
  {
   "cell_type": "code",
   "execution_count": 3,
   "metadata": {},
   "outputs": [
    {
     "data": {
      "text/plain": [
       "<sqlalchemy.engine.cursor.CursorResult at 0x1046bdcc0>"
      ]
     },
     "execution_count": 3,
     "metadata": {},
     "output_type": "execute_result"
    }
   ],
   "source": [
    "events_db = open_sqlite_db(sql_dir / \"events.sqlite\", replace=True)\n",
    "raw_computed_views_db = open_sqlite_db(\n",
    "    sql_dir / \"raw_computed_views_db.sqlite\", replace=True\n",
    ")\n",
    "\n",
    "raw_events_by_month_and_region_writer = SqliteTableBatchWriter(\n",
    "    db=raw_computed_views_db,\n",
    "    table=\"events_by_month_and_region\",\n",
    "    index_key=\"month_region\",\n",
    "    batch_size=10_000,\n",
    ")\n",
    "raw_page_and_year_writer = SqliteTableBatchWriter(\n",
    "    raw_computed_views_db, \"events_by_page_and_year\", \"page_title\", batch_size=10_000\n",
    ")\n",
    "event_sql_writer = SqliteTableBatchWriter(\n",
    "    events_db, \"events\", \"event_id\", batch_size=10_000\n",
    ")\n",
    "\n",
    "raw_events_by_month_and_region_writer = SqliteTableBatchWriter(\n",
    "    db=raw_computed_views_db,\n",
    "    table=\"events_by_month_and_region\",\n",
    "    index_key=\"month_region\",\n",
    "    batch_size=10_000,\n",
    ")\n",
    "raw_page_and_year_writer = SqliteTableBatchWriter(\n",
    "    raw_computed_views_db, \"events_by_page_and_year\", \"page_title\", batch_size=10_000\n",
    ")\n",
    "event_sql_writer = SqliteTableBatchWriter(\n",
    "    events_db, \"events\", \"event_id\", batch_size=10_000\n",
    ")\n",
    "\n",
    "\n",
    "event_sql_writer.execute(\n",
    "    \"\"\"\n",
    "    CREATE TABLE IF NOT EXISTS events (\n",
    "        event_id TEXT PRIMARY KEY,\n",
    "        page_title TEXT,\n",
    "        page_section TEXT,\n",
    "        summary TEXT,\n",
    "        location TEXT,\n",
    "        'when' TEXT,\n",
    "        'where' TEXT,\n",
    "        start_date TEXT,\n",
    "        end_date TEXT,\n",
    "        category TEXT,\n",
    "        people TEXT,\n",
    "        geohash4 TEXT,\n",
    "        where_page_title TEXT,\n",
    "        where_is_guess BOOLEAN,\n",
    "        city_page_title TEXT,\n",
    "        city_is_guess BOOLEAN\n",
    "    );\n",
    "    \"\"\"\n",
    ")\n",
    "\n",
    "raw_page_and_year_writer.execute(\n",
    "    \"\"\"CREATE TABLE IF NOT EXISTS events_by_page_and_year (\n",
    "        page_title TEXT,\n",
    "        year INTEGER,\n",
    "        event_id TEXT\n",
    "    );\n",
    "    \"\"\"\n",
    ")\n",
    "raw_page_and_year_writer.execute(\n",
    "    \"\"\"CREATE TABLE IF NOT EXISTS events_by_month_and_region (\n",
    "        month_region TEXT,\n",
    "        event_id TEXT,\n",
    "        geohash4 TEXT,\n",
    "        start_date TEXT,\n",
    "        end_date TEXT\n",
    "    );\n",
    "    \"\"\"\n",
    ")\n"
   ]
  },
  {
   "cell_type": "markdown",
   "metadata": {},
   "source": [
    "## Add events from LLMs\n"
   ]
  },
  {
   "cell_type": "code",
   "execution_count": 4,
   "metadata": {},
   "outputs": [
    {
     "data": {
      "application/vnd.jupyter.widget-view+json": {
       "model_id": "234f8cd121654fdba3fde9c3fc401d99",
       "version_major": 2,
       "version_minor": 0
      },
      "text/plain": [
       "0it [00:00, ?it/s]"
      ]
     },
     "metadata": {},
     "output_type": "display_data"
    },
    {
     "data": {
      "text/plain": [
       "{'pages': 452459,\n",
       " 'events_with_location': 6165320,\n",
       " 'total_events': 1576510140,\n",
       " 'errored_pages': 0}"
      ]
     },
     "execution_count": 4,
     "metadata": {},
     "output_type": "execute_result"
    }
   ],
   "source": [
    "counts = {\n",
    "    \"pages\": 0,\n",
    "    \"events_with_location\": 0,\n",
    "    \"total_events\": 0,\n",
    "    \"errored_pages\": 0,\n",
    "}\n",
    "no_location = []\n",
    "date_errors = []\n",
    "with open(wiki_data_dir / \"disambiguation_page_titles.json\", \"r\") as f:\n",
    "    disambiguation_dict = json.load(f)\n",
    "\n",
    "with (\n",
    "    LMDBReader(wiki_data_dir / \"wiki_dump_redirects_db\") as redirects_db,\n",
    "    LMDBReader(wiki_data_dir / \"wiki_dump_index_db\") as page_index_db,\n",
    "    LMDBReader(\n",
    "        generated_data_dir / \"locations_by_page_title_db\"\n",
    "    ) as locations_by_title_db,\n",
    "    LMDBReader(\n",
    "        generated_data_dir / \"events_extracted_by_page_gemini-2.0_processed_db\"\n",
    "    ) as llm_events_db,\n",
    "    LMDBReader(generated_data_dir / \"page_links_db\") as page_links_db,\n",
    "):\n",
    "    event_processor = LLMEventProcessor(\n",
    "        page_index_db=page_index_db,\n",
    "        redirects_db=redirects_db,\n",
    "        disambiguation_dict=disambiguation_dict,\n",
    "        page_links_db=page_links_db,\n",
    "        locations_by_title_db=locations_by_title_db,\n",
    "    )\n",
    "    for page_title, events in tqdm(llm_events_db):\n",
    "        counts[\"pages\"] += 1\n",
    "        try:\n",
    "            page_events = json.loads(events.decode())\n",
    "        except Exception as e:\n",
    "            counts[\"errored_pages\"] += 1\n",
    "            raise (e)\n",
    "            continue\n",
    "\n",
    "        counts[\"total_events\"] += len(events)\n",
    "\n",
    "        event_processor.process_events_in_page(\n",
    "            page_title=page_title,\n",
    "            page_events=page_events,\n",
    "            counts=counts,\n",
    "            raw_events_by_month_and_region_writer=raw_events_by_month_and_region_writer,\n",
    "            raw_page_and_year_writer=raw_page_and_year_writer,\n",
    "            event_sql_writer=event_sql_writer,\n",
    "            date_errors=date_errors,\n",
    "            no_location=no_location,\n",
    "        )\n",
    "\n",
    "event_sql_writer.insert_records()\n",
    "\n",
    "for writer in [\n",
    "    raw_page_and_year_writer,\n",
    "    raw_events_by_month_and_region_writer,\n",
    "]:\n",
    "    writer.insert_records()\n",
    "    writer.index()\n",
    "counts\n"
   ]
  },
  {
   "cell_type": "markdown",
   "metadata": {},
   "source": [
    "## Add infobox events\n"
   ]
  },
  {
   "cell_type": "code",
   "execution_count": 8,
   "metadata": {},
   "outputs": [
    {
     "data": {
      "application/vnd.jupyter.widget-view+json": {
       "model_id": "a0c977b1b34c40b8bf001e79d6a6e2fc",
       "version_major": 2,
       "version_minor": 0
      },
      "text/plain": [
       "0it [00:00, ?it/s]"
      ]
     },
     "metadata": {},
     "output_type": "display_data"
    },
    {
     "data": {
      "text/plain": [
       "{'errored_events': 0, 'total_events': 1055116}"
      ]
     },
     "execution_count": 8,
     "metadata": {},
     "output_type": "execute_result"
    }
   ],
   "source": [
    "record_batches_by_table = {}\n",
    "counts = {\n",
    "    \"errored_events\": 0,\n",
    "    \"total_events\": 0,\n",
    "}\n",
    "\n",
    "\n",
    "with (\n",
    "    LMDBReader(generated_data_dir / \"events_extracted_from_infoboxes_db\") as infobox_db,\n",
    "    LMDBReader(\n",
    "        generated_data_dir / \"events_extracted_by_page_gemini-2.0_processed_db\"\n",
    "    ) as llm_events_db,\n",
    "):\n",
    "    for page, events in tqdm(infobox_db):\n",
    "        if llm_events_db.get(page.encode()) is not None:\n",
    "            continue\n",
    "        events = json.loads(events.decode())\n",
    "        for event_data in events:\n",
    "            process_infobox_event(\n",
    "                event_data=event_data,\n",
    "                counts=counts,\n",
    "                raw_events_by_month_and_region_writer=raw_events_by_month_and_region_writer,\n",
    "                raw_page_and_year_writer=raw_page_and_year_writer,\n",
    "                event_sql_writer=event_sql_writer,\n",
    "            )\n",
    "\n",
    "for writer in [\n",
    "    raw_page_and_year_writer,\n",
    "    raw_events_by_month_and_region_writer,\n",
    "    event_sql_writer,\n",
    "]:\n",
    "    # insert what's in the last batch\n",
    "    writer.insert_records()\n",
    "counts"
   ]
  },
  {
   "cell_type": "markdown",
   "metadata": {},
   "source": [
    "## Events sorting\n"
   ]
  },
  {
   "cell_type": "code",
   "execution_count": 10,
   "metadata": {},
   "outputs": [],
   "source": [
    "import zlib\n",
    "import json\n",
    "\n",
    "events_by_page_db = open_sqlite_db(\n",
    "    sql_dir / \"events_by_page_and_year.sqlite\", replace=True\n",
    ")\n",
    "pages_sql_writer = SqliteTableBatchWriter(\n",
    "    events_by_page_db,\n",
    "    \"pages\",\n",
    "    index_key=\"page_title\",\n",
    "    batch_size=1000,\n",
    "    unloading_threshold=85_000,\n",
    "    unloading_dir=sql_dir / \"files/events_by_page/\",\n",
    "    online_filedir=\"events_by_page\",\n",
    "    text_indexed_fields=[\"page_title\"],\n",
    ")\n",
    "\n",
    "pages_sql_writer.execute(\n",
    "    \"\"\"\n",
    "    CREATE TABLE IF NOT EXISTS pages (\n",
    "        page_title TEXT PRIMARY KEY,\n",
    "        n_events INTEGER,\n",
    "        zlib_json_blob TEXT\n",
    "    );\n",
    "    \"\"\",\n",
    ")\n",
    "result = raw_page_and_year_writer.execute(\n",
    "    \"\"\"\n",
    "    SELECT page_title, COUNT(event_id) as event_count\n",
    "    FROM events_by_page_and_year\n",
    "    GROUP BY page_title\n",
    "    ORDER BY\n",
    "    event_count DESC\n",
    "    \"\"\",\n",
    ")\n",
    "pages = [row[0] for row in result.fetchall()]\n"
   ]
  },
  {
   "cell_type": "code",
   "execution_count": 11,
   "metadata": {},
   "outputs": [
    {
     "data": {
      "application/vnd.jupyter.widget-view+json": {
       "model_id": "befcfb02ed2e4ac4bb00bd1b8d3563d9",
       "version_major": 2,
       "version_minor": 0
      },
      "text/plain": [
       "  0%|          | 0/1799099 [00:00<?, ?it/s]"
      ]
     },
     "metadata": {},
     "output_type": "display_data"
    }
   ],
   "source": [
    "columns = [\"page_title\", \"year\", \"event_id\"]\n",
    "record_batches_by_table = {}\n",
    "for page in tqdm(pages):\n",
    "    sanitized_page = page.replace(\"'\", \"''\")\n",
    "    result = db_execute(\n",
    "        raw_computed_views_db,\n",
    "        f\"SELECT {', '.join(columns)} FROM events_by_page_and_year WHERE page_title = '{sanitized_page}'\",\n",
    "    )\n",
    "    events = []\n",
    "    seen_event_ids = set()\n",
    "    for row in result.fetchall():\n",
    "        event_dict = dict(zip(columns, row))\n",
    "        if event_dict[\"event_id\"] in seen_event_ids:\n",
    "            continue\n",
    "        event_dict.pop(\"page_title\")\n",
    "        seen_event_ids.add(event_dict[\"event_id\"])\n",
    "        events.append(event_dict)\n",
    "    events_by_year = {}\n",
    "    for event in events:\n",
    "        if event[\"year\"] not in events_by_year:\n",
    "            events_by_year[event[\"year\"]] = []\n",
    "        events_by_year[event[\"year\"]].append(event[\"event_id\"])\n",
    "    for year, events_in_year in events_by_year.items():\n",
    "        events_by_year[year] = sorted(events_in_year)\n",
    "\n",
    "    json_data = json.dumps(events_by_year).encode(\"utf-8\")\n",
    "    compressed_data = zlib.compress(json_data)\n",
    "    record = {\n",
    "        \"page_title\": page,\n",
    "        \"n_events\": len(events),\n",
    "        \"zlib_json_blob\": compressed_data,\n",
    "    }\n",
    "    pages_sql_writer.add_record_to_db_table(record)\n",
    "\n",
    "pages_sql_writer.insert_records()\n",
    "pages_sql_writer.index_text()"
   ]
  },
  {
   "cell_type": "code",
   "execution_count": 12,
   "metadata": {},
   "outputs": [
    {
     "data": {
      "application/vnd.jupyter.widget-view+json": {
       "model_id": "4bf61901899848308a1a07d352ed6d82",
       "version_major": 2,
       "version_minor": 0
      },
      "text/plain": [
       "  0%|          | 0/350798 [00:00<?, ?it/s]"
      ]
     },
     "metadata": {},
     "output_type": "display_data"
    }
   ],
   "source": [
    "events_by_month_region_db = open_sqlite_db(\n",
    "    sql_dir / \"events_by_month_region.sqlite\", replace=True\n",
    ")\n",
    "month_region_sql_writer = SqliteTableBatchWriter(\n",
    "    events_by_month_region_db,\n",
    "    \"events_by_month_region\",\n",
    "    index_key=\"month_region\",\n",
    "    batch_size=1000,\n",
    "    unloading_threshold=85_000,\n",
    "    unloading_dir=sql_dir / \"files\" / \"events_by_month_region\",\n",
    "    online_filedir=\"events_by_month_region\",\n",
    ")\n",
    "\n",
    "db_execute(\n",
    "    events_by_month_region_db,\n",
    "    \"\"\"\n",
    "    CREATE TABLE IF NOT EXISTS events_by_month_region (\n",
    "        month_region TEXT PRIMARY KEY,\n",
    "        zlib_json_blob TEXT\n",
    "    );\n",
    "    \"\"\",\n",
    ")\n",
    "result = db_execute(\n",
    "    raw_computed_views_db,\n",
    "    \"SELECT DISTINCT month_region FROM events_by_month_and_region\",\n",
    ")\n",
    "month_regions = [row[0] for row in result.fetchall()]\n",
    "\n",
    "records_batch = []\n",
    "for month_region in tqdm(month_regions):\n",
    "    result = db_execute(\n",
    "        raw_computed_views_db,\n",
    "        f\"SELECT * FROM events_by_month_and_region WHERE month_region = '{month_region}'\",\n",
    "    )\n",
    "    events = []\n",
    "    for row in result.fetchall():\n",
    "        events.append(row._asdict())\n",
    "    json_data = json.dumps(events).encode(\"utf-8\")\n",
    "    compressed_data = zlib.compress(json_data)\n",
    "    record = {\"month_region\": month_region, \"zlib_json_blob\": compressed_data}\n",
    "    month_region_sql_writer.add_record_to_db_table(record)\n",
    "\n",
    "month_region_sql_writer.insert_records()\n"
   ]
  },
  {
   "cell_type": "code",
   "execution_count": 18,
   "metadata": {},
   "outputs": [
    {
     "name": "stderr",
     "output_type": "stream",
     "text": [
      "<unknown>:49: SyntaxWarning: invalid escape sequence '\\w'\n",
      "<unknown>:49: SyntaxWarning: invalid escape sequence '\\w'\n"
     ]
    }
   ],
   "source": [
    "import os\n",
    "\n",
    "file_names = {\n",
    "    \"events\": \"4562cc8e8f697e3ef21f3287b4455e792fdf1cb813568077880fd4e53f3fc86d\",\n",
    "    \"events_by_month_region\": \"2e9c2042041bbfb606d1d1f640ad14234f92bfd808b34e213a9178bb580fb7b2\",\n",
    "    \"events_by_page_and_year\": \"24aeb6370a6970d43e77d63292aa07c7276eae643944a51417b96388bdddf34c\",\n",
    "}\n",
    "target_dir = \"../landnotes/worker/.wrangler/state/v3/d1/miniflare-D1DatabaseObject/\"\n",
    "\n",
    "for source, destination in file_names.items():\n",
    "    os.system(f\"cp generated_data/sql/{source}.sqlite {target_dir}{destination}.sqlite\")\n"
   ]
  },
  {
   "cell_type": "markdown",
   "metadata": {},
   "source": [
    "## Export to SQL files\n"
   ]
  },
  {
   "cell_type": "code",
   "execution_count": null,
   "metadata": {},
   "outputs": [
    {
     "data": {
      "application/vnd.jupyter.widget-view+json": {
       "model_id": "287e04bdfaf9489c9dae949f2c0cdf92",
       "version_major": 2,
       "version_minor": 0
      },
      "text/plain": [
       "Processing rows: 0it [00:00, ?it/s]"
      ]
     },
     "metadata": {},
     "output_type": "display_data"
    }
   ],
   "source": [
    "from utils import db_utils\n",
    "\n",
    "db_utils.export_sql_files(\n",
    "    sql_dir / \"events_by_page_and_year.sqlite\",\n",
    "    sql_dir / \"raw_sql\" / \"events_by_page_and_year/\",\n",
    "    commands_per_file=60_000,\n",
    "    batch_size_by_command=1,\n",
    ");"
   ]
  },
  {
   "cell_type": "code",
   "execution_count": 15,
   "metadata": {},
   "outputs": [
    {
     "data": {
      "application/vnd.jupyter.widget-view+json": {
       "model_id": "e43ea3739643468c893abcd58111f2ba",
       "version_major": 2,
       "version_minor": 0
      },
      "text/plain": [
       "Processing rows: 0it [00:00, ?it/s]"
      ]
     },
     "metadata": {},
     "output_type": "display_data"
    }
   ],
   "source": [
    "db_utils.export_sql_files(\n",
    "    sql_dir / \"events_by_month_region.sqlite\",\n",
    "    sql_dir / \"raw_sql\" / \"events_by_month_region/\",\n",
    "    commands_per_file=60_000,\n",
    "    batch_size_by_command=1,\n",
    ");"
   ]
  },
  {
   "cell_type": "code",
   "execution_count": 16,
   "metadata": {},
   "outputs": [
    {
     "data": {
      "application/vnd.jupyter.widget-view+json": {
       "model_id": "049f3d6935be4c90bf6bbe8397247b70",
       "version_major": 2,
       "version_minor": 0
      },
      "text/plain": [
       "Processing rows: 0it [00:00, ?it/s]"
      ]
     },
     "metadata": {},
     "output_type": "display_data"
    }
   ],
   "source": [
    "db_utils.export_sql_files(\n",
    "    sql_dir / \"events.sqlite\",\n",
    "    sql_dir / \"sql_raw\" / \"events\",\n",
    "    commands_per_file=60_000,\n",
    "    batch_size_by_command=1,\n",
    ");\n"
   ]
  },
  {
   "cell_type": "code",
   "execution_count": 17,
   "metadata": {},
   "outputs": [
    {
     "data": {
      "text/plain": [
       "0"
      ]
     },
     "execution_count": 17,
     "metadata": {},
     "output_type": "execute_result"
    }
   ],
   "source": [
    "import os\n",
    "\n",
    "os.system(\"cp -r generated_data/sql/raw_sql ../landnotes/worker/local_assets/\")"
   ]
  }
 ],
 "metadata": {
  "kernelspec": {
   "display_name": "Python 3",
   "language": "python",
   "name": "python3"
  },
  "language_info": {
   "codemirror_mode": {
    "name": "ipython",
    "version": 3
   },
   "file_extension": ".py",
   "mimetype": "text/x-python",
   "name": "python",
   "nbconvert_exporter": "python",
   "pygments_lexer": "ipython3",
   "version": "3.12.3"
  }
 },
 "nbformat": 4,
 "nbformat_minor": 2
}
